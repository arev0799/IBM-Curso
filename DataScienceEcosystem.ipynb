{
 "cells": [
  {
   "cell_type": "markdown",
   "id": "27093fe0-d550-4f43-ac24-6dd8deac73fd",
   "metadata": {},
   "source": [
    "# Data Science Tools and Ecosystem"
   ]
  },
  {
   "cell_type": "markdown",
   "id": "c8a4fa26-96bc-48b9-b31d-f6fd97b68d40",
   "metadata": {},
   "source": [
    "In this notebook, Data Science Tools and Ecosystem are summarized."
   ]
  },
  {
   "cell_type": "markdown",
   "id": "5b0b376e-47dc-4a31-a919-a94856c3b5da",
   "metadata": {},
   "source": [
    "## Author\n",
    "Ángela Rubio Estevez"
   ]
  },
  {
   "cell_type": "markdown",
   "id": "abba2c93-b849-4f68-9b78-09c33af40eac",
   "metadata": {},
   "source": [
    "Objectives:\n",
    "\n",
    "* List popular languages for Data Science\n",
    "* List commonly used libraries used by Data Scientists\n",
    "* List Data Science Tools\n",
    "* Show examples of evaluating arithmetic expressions"
   ]
  },
  {
   "cell_type": "markdown",
   "id": "8232857b-cad9-4787-a679-f4a2f0615098",
   "metadata": {},
   "source": [
    "Some of the popular languages that Data Scientists use are:\n",
    "\n",
    "1. Python\n",
    "2. R\n",
    "3. SQL \n",
    "4. Scala\n",
    "5. Java\n",
    "6. C++\n",
    "7. Julia"
   ]
  },
  {
   "cell_type": "markdown",
   "id": "e65485bc-ccb0-4a07-8f3e-163b1958192c",
   "metadata": {},
   "source": [
    "Some of the commonly used libraries used by Data Scientists include:\n",
    "\n",
    "1. Pandas\n",
    "2. NumPy\n",
    "3. Matplotlib\n",
    "4. Seaborn"
   ]
  },
  {
   "cell_type": "markdown",
   "id": "808e356b-1346-40b6-a77b-4fabc835f5ed",
   "metadata": {},
   "source": [
    "| Data Science Tools |\n",
    "|----------|\n",
    "| JupyterLab         |\n",
    "| VS Code            |\n",
    "| Anaconda           |"
   ]
  },
  {
   "cell_type": "markdown",
   "id": "23aecc73-540e-4763-92dd-01d1a46b1830",
   "metadata": {},
   "source": [
    "### Below are a few examples of evaluating arithmetic expressions in Python:"
   ]
  },
  {
   "cell_type": "markdown",
   "id": "3e1218db-7894-4628-ad1b-05ed72e6d863",
   "metadata": {},
   "source": [
    " This a simple arithmetic expression to mutiply then add integers"
   ]
  },
  {
   "cell_type": "code",
   "execution_count": 1,
   "id": "3959d020-20ab-4b5d-b7c1-541cd9f4f30e",
   "metadata": {},
   "outputs": [
    {
     "data": {
      "text/plain": [
       "17"
      ]
     },
     "execution_count": 1,
     "metadata": {},
     "output_type": "execute_result"
    }
   ],
   "source": [
    "(3*4)+5"
   ]
  },
  {
   "cell_type": "markdown",
   "id": "35e8678e-c73d-4bcd-92f9-011e93691809",
   "metadata": {},
   "source": [
    "This will convert 200 minutes to hours by diving by 60:"
   ]
  },
  {
   "cell_type": "code",
   "execution_count": 2,
   "id": "046e1288-fad2-4bed-9398-46ca70e2a6e5",
   "metadata": {},
   "outputs": [
    {
     "data": {
      "text/plain": [
       "3.3333333333333335"
      ]
     },
     "execution_count": 2,
     "metadata": {},
     "output_type": "execute_result"
    }
   ],
   "source": [
    "200 / 60"
   ]
  }
 ],
 "metadata": {
  "kernelspec": {
   "display_name": "Python 3 (ipykernel)",
   "language": "python",
   "name": "python3"
  },
  "language_info": {
   "codemirror_mode": {
    "name": "ipython",
    "version": 3
   },
   "file_extension": ".py",
   "mimetype": "text/x-python",
   "name": "python",
   "nbconvert_exporter": "python",
   "pygments_lexer": "ipython3",
   "version": "3.10.9"
  }
 },
 "nbformat": 4,
 "nbformat_minor": 5
}
